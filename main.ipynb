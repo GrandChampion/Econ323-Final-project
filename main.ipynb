{
 "cells": [
  {
   "attachments": {},
   "cell_type": "markdown",
   "metadata": {},
   "source": [
    "# Final project\n",
    "## Team member\n",
    "- Yiran Shen (48907570)\n",
    "- Rylee Wang (95006185)\n",
    "- Yeongu Choe (77672566)"
   ]
  },
  {
   "cell_type": "code",
   "execution_count": 2,
   "metadata": {},
   "outputs": [],
   "source": [
    "import pandas as pd\n",
    "import numpy as np\n",
    "import geopandas as gpd"
   ]
  },
  {
   "attachments": {},
   "cell_type": "markdown",
   "metadata": {},
   "source": [
    "URL1: https://ourworldindata.org/policy-responses-covid\n",
    "\n",
    "URL2: https://data.worldbank.org/indicator/ST.INT.XPND.CD"
   ]
  },
  {
   "attachments": {},
   "cell_type": "markdown",
   "metadata": {},
   "source": [
    "## Travel Restriction data"
   ]
  },
  {
   "attachments": {},
   "cell_type": "markdown",
   "metadata": {},
   "source": [
    "<!-- * stay at home restriction\n",
    "* face covering\n",
    "* international and domestic travel\n",
    "* vaccination policy -->\n"
   ]
  },
  {
   "cell_type": "code",
   "execution_count": null,
   "metadata": {},
   "outputs": [],
   "source": [
    "homeRestriction = pd.read_csv(\"./src/stay-at-home-covid.csv\")\n",
    "faceCovering = pd.read_csv(\"./src/face-covering-policies-covid.csv\")\n",
    "internationalDomesticTravel = pd.read_csv(\"./src/public-transport-covid.csv\")\n",
    "vaccinationPolicy = pd.read_csv(\"./src/covid-vaccination-policy.csv\")\n"
   ]
  },
  {
   "attachments": {},
   "cell_type": "markdown",
   "metadata": {},
   "source": [
    "Travel"
   ]
  }
 ],
 "metadata": {
  "kernelspec": {
   "display_name": "Python 3",
   "language": "python",
   "name": "python3"
  },
  "language_info": {
   "codemirror_mode": {
    "name": "ipython",
    "version": 3
   },
   "file_extension": ".py",
   "mimetype": "text/x-python",
   "name": "python",
   "nbconvert_exporter": "python",
   "pygments_lexer": "ipython3",
   "version": "3.9.6"
  },
  "orig_nbformat": 4
 },
 "nbformat": 4,
 "nbformat_minor": 2
}
