{
 "cells": [
  {
   "cell_type": "markdown",
   "id": "8d4cc717-3338-4437-95a3-6d08553dd6b6",
   "metadata": {},
   "source": [
    "### The primary goal of this analysis is to find the factors that impact of COVID-19 on the tourism industry. "
   ]
  },
  {
   "cell_type": "markdown",
   "id": "d46d3139-fc46-4bd2-a870-8e32f6f50f46",
   "metadata": {},
   "source": [
    "\n",
    "## Background\n",
    "\n",
    "Following the COVID-19 outbreak, it became a global crisis in the last couple of years. The COVID-19 pandemic has had a profound impact on the tourism industry, which is one of the sectors most affected by the pandemic. In an effort to slow the spread of the virus, many countries implemented strict measures such as travel restrictions, mandatory quarantines, and lockdowns. These measures have led to a significant decline in tourist arrivals and spending, resulting in job losses and economic disruption. In this project, we will explore the factors that have impacted the tourism industry during the COVID-19 pandemic over 6 countries.\n",
    "\n",
    "## Dataset\n",
    "We retrieved data on 6 countries that were popular tourist destinations including the United States, Canada, China, South Korea, Japan and Brazil prior to the Covid-19 pandemic and conducted a comparative analysis of the changes in the tourism industry before and after the outbreak.\n",
    "\n",
    "## Outline\n",
    "\n",
    "#### 1.Comparison of tourism expenditure before and after the Covid pandemic\n",
    "#### 2.Examining the number of face mask covering  in countries\n",
    "#### 3.Examining the global unemployment rate in 2019 and 2020\n",
    "#### 4.Examining the number of face mask covering  in countries\n",
    "#### 5.Effect of travel restriction on the expenditure of tourism\n",
    "\n"
   ]
  },
  {
   "cell_type": "markdown",
   "id": "61d6a0d5-539b-4697-acd0-8c0a29657b3c",
   "metadata": {},
   "source": [
    "## Conclusion\n",
    "\n",
    "Overall, The COVID-19 pandemic has had a significant impact on the tourism industry. The closure of schools and workplaces has resulted in job losses in the tourism industry sector, and the mandatory use of masks has affected the hospitality industry. The decline in international travel has led to a loss of revenue for businesses and governments. The tourism industry has been one of the hardest-hit sectors of the economy, and it will take some time for the industry to recover fully.\n",
    "\n",
    "\n",
    "## Limitations\n",
    "\n",
    "The analysis is limited by the fact that it only considers a limited number of countries and popular tourist destinations, which does not include European countries. The impact of the pandemic on the tourism industry may vary across different countries and regions, and the analysis may not be representative of the entire industry.\n",
    "\n",
    "## Areas for further research\n",
    "\n",
    "Future research could explore the impact of the pandemic on specific segments of the tourism industry, such as business travel, luxury travel, and adventure travel. The analysis could also consider the impact of the pandemic on different types of tourism, such as cultural tourism, eco-tourism, and medical tourism. Moreover, the analysis could explore the long-term impact of the pandemic on the tourism industry and the measures that can be taken to support the recovery of the industry.\n"
   ]
  },
  {
   "cell_type": "code",
   "execution_count": null,
   "id": "3bcc6a8e-462a-45e1-a156-a698ea43d4f8",
   "metadata": {},
   "outputs": [],
   "source": []
  }
 ],
 "metadata": {
  "kernelspec": {
   "display_name": "Python 3 (ipykernel)",
   "language": "python",
   "name": "python3"
  },
  "language_info": {
   "codemirror_mode": {
    "name": "ipython",
    "version": 3
   },
   "file_extension": ".py",
   "mimetype": "text/x-python",
   "name": "python",
   "nbconvert_exporter": "python",
   "pygments_lexer": "ipython3",
   "version": "3.10.5"
  }
 },
 "nbformat": 4,
 "nbformat_minor": 5
}
