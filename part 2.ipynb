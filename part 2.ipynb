{
 "cells": [
  {
   "cell_type": "markdown",
   "id": "092d5321-05d6-4c20-bbc2-7cd1fa4d0c65",
   "metadata": {},
   "source": []
  },
  {
   "cell_type": "markdown",
   "id": "06314b1b-34c8-4b4f-8650-118c8df3f31d",
   "metadata": {},
   "source": [
    "## Analyzing the prevalence of facial covering mandates across nations\n"
   ]
  },
  {
   "cell_type": "markdown",
   "id": "d9b56379-3183-45e5-8d39-dd660bd546ac",
   "metadata": {},
   "source": [
    "To slow the virus’ spread, the local government announced a “mask mandatory” policy, which coincided with the first wave of the COVID-19 pandemic. It became common to see people wearing masks. Wearing a mask is an effective way to reduce virus transmission. As a result, the wearing of face masks has become a new norm in the tourism industry. Tourists are now required to wear masks in public places, including tourist attractions, hotels, and restaurants. "
   ]
  },
  {
   "cell_type": "code",
   "execution_count": null,
   "id": "349cd46a-67f9-46df-9e44-0f9edf84852c",
   "metadata": {},
   "outputs": [],
   "source": []
  },
  {
   "cell_type": "markdown",
   "id": "5ce96b02-9a8c-4332-bcf6-cb451403661c",
   "metadata": {},
   "source": [
    "The tourism industry has been impacted by the compulsory use of masks, which was mandated by the government for public areas. As shown in the table above, there has been a decrease in the total number of tourists. For instance, in Korea, the average percentage of face covering policy increased from 1.65% to 3%, resulting in a significant decline in inbound tourists from 2,519,118 to 967,003 between 2020 and 2021. Similarly, in Japan, the mandatory face mask policy increased from 0.84% to 1%, leading to a decrease in the number of tourists from 4,115,828 to 245,862. This demonstrates that the mandatory face mask policy has the potential to affect the number of tourists. However, it is important to note that there may be other factors or other travel restrictions affecting the change in the number of visitors to the countries listed in the graph, such as the PCR test in 24 hours before boarding on the flight."
   ]
  },
  {
   "cell_type": "markdown",
   "id": "74154215-b1ac-45d7-98ec-60e9787b3f85",
   "metadata": {},
   "source": [
    "## Analyze how implementing travel restrictions impacts tourism spending\n"
   ]
  },
  {
   "cell_type": "markdown",
   "id": "8cb872e1-5536-4873-aff2-5e3e5ee301db",
   "metadata": {},
   "source": [
    "Moreover, the imposition of travel restrictions, mandatory quarantines, and lockdowns has led to a decline in tourist arrivals, resulting in a loss of revenue for businesses and governments. The tourism industry has also been affected by the closure of borders and suspension of flights, which has led to a decline in the number of tourists visiting popular destinations.World Tourism Organization has stated that over 96% of global destinations impose travel restrictions. (unwto, 2020)\n",
    "\n",
    "Reference link: https://www.unwto.org/news/covid-19-response-travel-restrictions\n",
    "\n"
   ]
  },
  {
   "cell_type": "code",
   "execution_count": null,
   "id": "94691c98-216c-4537-95bb-8694ef990ef1",
   "metadata": {},
   "outputs": [],
   "source": []
  }
 ],
 "metadata": {
  "kernelspec": {
   "display_name": "Python 3 (ipykernel)",
   "language": "python",
   "name": "python3"
  },
  "language_info": {
   "codemirror_mode": {
    "name": "ipython",
    "version": 3
   },
   "file_extension": ".py",
   "mimetype": "text/x-python",
   "name": "python",
   "nbconvert_exporter": "python",
   "pygments_lexer": "ipython3",
   "version": "3.10.5"
  }
 },
 "nbformat": 4,
 "nbformat_minor": 5
}
