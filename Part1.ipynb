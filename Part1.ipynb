{
 "cells": [
  {
   "cell_type": "markdown",
   "id": "1cf3e8dd-6dec-4db9-bf34-dddcfff0c674",
   "metadata": {},
   "source": [
    "**Part 1: Impacts of COVID-19 pandemic on tourism industry**"
   ]
  },
  {
   "cell_type": "markdown",
   "id": "105efaa3-7178-4caa-af6d-15a8f723eb36",
   "metadata": {},
   "source": [
    "To examine the impacts of Covid-19 on the tourism industry, we will analyze the comparisons of outbound and inbound visitors and tourism expenditure between year 2019 and 2020 in Korea, Japan, Mexico and the USA. The data is from the OECD database. Since the limitation of the database, Brazil, China and Canada are excluded. We import the data of the numbers of international arrivals and departures and the amount of total international tourism expense in each country. The three bar charts below visualize the differences before and after Covid-19 pandemic and we can witness the direct destructive effects of Covid-19 on the tourism industry.  "
   ]
  },
  {
   "cell_type": "markdown",
   "id": "762bb117-a390-42d8-9db2-40719f53e1d8",
   "metadata": {},
   "source": [
    "**Inbound and outbound visitors and travel expenditures visualization**"
   ]
  },
  {
   "cell_type": "code",
   "execution_count": null,
   "id": "6a4a29e5-68d9-46e9-bd12-596a1d130108",
   "metadata": {},
   "outputs": [],
   "source": [
    "# coding and graph of travel expenditure"
   ]
  },
  {
   "cell_type": "markdown",
   "id": "33bcb3e5-3acd-4bac-b780-a1897d7e89ec",
   "metadata": {},
   "source": [
    "It is not surprising that there is a significant decline in the number of outbound and inbound visitors in each of these countries, which can be connected with the decrease in travel spendings."
   ]
  },
  {
   "cell_type": "markdown",
   "id": "09ba604d-fc0e-4983-bce0-2e469d9d91dd",
   "metadata": {},
   "source": [
    "We also investigate the changes in hotel occupancy rate to see how accommodation was influenced by Covid-19.  The line graph below visualizes the fluctuation of hotel occupancy rate in Canada from January 2020 to August 2022. There is an obvious downward trend in hotel occupancy rate during this period."
   ]
  },
  {
   "cell_type": "code",
   "execution_count": null,
   "id": "bd95ae13-036d-41a5-b361-c8ec61afe715",
   "metadata": {},
   "outputs": [],
   "source": [
    "# coding and graph of hotel"
   ]
  }
 ],
 "metadata": {
  "kernelspec": {
   "display_name": "Python 3 (ipykernel)",
   "language": "python",
   "name": "python3"
  },
  "language_info": {
   "codemirror_mode": {
    "name": "ipython",
    "version": 3
   },
   "file_extension": ".py",
   "mimetype": "text/x-python",
   "name": "python",
   "nbconvert_exporter": "python",
   "pygments_lexer": "ipython3",
   "version": "3.10.5"
  }
 },
 "nbformat": 4,
 "nbformat_minor": 5
}
