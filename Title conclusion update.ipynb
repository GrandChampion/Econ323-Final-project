{
 "cells": [
  {
   "cell_type": "markdown",
   "id": "8d4cc717-3338-4437-95a3-6d08553dd6b6",
   "metadata": {},
   "source": [
    "### Topic:The Impact of the COVID-19 Pandemic on Tourist Travel: An Analysis of the Consequences\n",
    "#### The primary goal of this analysis is to find the factors that impact of COVID-19 on the tourism industry. "
   ]
  },
  {
   "cell_type": "markdown",
   "id": "d46d3139-fc46-4bd2-a870-8e32f6f50f46",
   "metadata": {},
   "source": [
    "\n",
    "## Background\n",
    "\n",
    "Following the COVID-19 outbreak, it became a global crisis in the last couple of years. The COVID-19 pandemic has had a profound impact on the tourism industry, which is one of the sectors most affected by the pandemic. In an effort to slow the spread of the virus, many countries implemented strict measures such as travel restrictions, mandatory quarantines, and lockdowns. These measures have led to a significant decline in tourist arrivals and spending, resulting in unemployment and economic disruption. \n",
    "\n",
    "## Introduction\n",
    "In this project, we investigate the impact of the COVID-19 pandemic on the tourism industry, with a focus on six countries. Two key metrics are compared before and after the pandemic to demonstrate the effects of the pandemic on the tourism industry: tourism expenditure and the number of inbound and outbound visitor arrivals in 2019 and 2020. \n",
    "The project further examines the factors that contribute to the decrease and change in the tourism industry. Specifically, we examine three factors: the number of face mask coverings in countries, global unemployment rates, and travel restrictions imposed after the COVID-19 pandemic. To analyze these factors, we used a bar chart and a linear graph to compare the data we retrieved for different regions before the COVID-19 pandemic and after that. The ultimate goal of this project is to provide a better understanding of the factors that have led to the decline in the tourism industry.\n",
    "\n",
    "## Dataset\n",
    "We retrieved data on 6 countries that were popular tourist destinations including the United States, Canada, China, South Korea, Japan and Brazil prior to the Covid-19 pandemic and conducted a comparative analysis of the changes in the tourism industry before and after the outbreak.\n",
    "\n",
    "## Outline\n",
    "\n",
    "### Part 1: The Effects of the COVID-19 Pandemic on the Tourism Industry in Six Countries.\n",
    "##### 1.A comparison of tourism spending pre- and post-Covid pandemic\n",
    "##### 2.Analyze the contrast between the figures of incoming and outgoing visitor arrivals in 2019 and 2020\n",
    "\n",
    "### Part 2:Factors that have an impact on the decline of the tourism industry.\n",
    "##### 1.Analyzing the prevalence of facial covering mandates across nations\n",
    "##### 2.Examining the worldwide unemployment rate for the years 2019 and 2020\n",
    "##### 3.Analyze how implementing travel restrictions impacts tourism spending\n",
    "\n"
   ]
  },
  {
   "cell_type": "markdown",
   "id": "61d6a0d5-539b-4697-acd0-8c0a29657b3c",
   "metadata": {},
   "source": [
    "## Conclusion\n",
    "\n",
    "In this project, the effects of the COVID-19 pandemic on the tourism industry in six countries—-Brazil, Canada, China, Japan, South Korea and the United States are analyzed. The comparison between pre- and post-Covid 19 pandemic tourism spendings, the contrast between inbound and outbound visitor arrivals and departures in 2019 and 2020 are examined. Additionally, factors that contribute to the decline of the tourism industry, such as the prevalence of facial covering mandates, the global unemployment rate, and the travel restriction policies are discussed. \n",
    "\n",
    "The findings suggest that the pandemic has had a profound impact on the tourism industry. There is a sharp decrease in the number of visitors, which causes the decline of tourism earnings. The closure of schools and workplaces may be the important reason that led to job losses, which has affected people's ability to finance their travel plans. Because of the reuqirements of wearing masks and policies of travel restrictions, people are less likely to go traveling, resulting in the reduction of tourism revenues. Thus, it is evident that the tourism industry has been one of the sectors hit the hardest by the pandemic, and the recovery may take some time.\n",
    "\n",
    "In conclusion, the COVID-19 pandemic has caused severe disruption to the tourism industry worldwide. The analysis of its effects on tourism spending and visitor arrivals, along with the examination of the factors that contribute to the decline of the industry, highlights the challenges that the industry faces in its recovery. The findings of this project provide insights into the recovery of the tourism industry and the strategies that can be implemented to ensure its future growth.\n",
    "\n",
    "\n",
    "## Limitations\n",
    "\n",
    "The analysis is limited by the fact that it only considers a limited number of countries, which does not include European countries and mostly focus on North American and Asia because of the availible data we found online. The impact of the pandemic on the tourism industry may vary across different countries and regions, and the analysis may not be representative of the entire industry globally.\n",
    "\n",
    "## Areas for further research\n",
    "\n",
    "Future research could explore the impact of the pandemic on specific segments of the tourism industry, such as business travel, luxury travel, and adventure travel. The analysis could also consider the impact of the pandemic on different types of tourism, such as cultural tourism, eco-tourism, and medical tourism. Moreover, the analysis could explore the long-term impact of the pandemic on the tourism industry and the measures that can be taken to support the recovery of the industry.\n"
   ]
  },
  {
   "cell_type": "code",
   "execution_count": null,
   "id": "3bcc6a8e-462a-45e1-a156-a698ea43d4f8",
   "metadata": {},
   "outputs": [],
   "source": []
  }
 ],
 "metadata": {
  "kernelspec": {
   "display_name": "Python 3 (ipykernel)",
   "language": "python",
   "name": "python3"
  },
  "language_info": {
   "codemirror_mode": {
    "name": "ipython",
    "version": 3
   },
   "file_extension": ".py",
   "mimetype": "text/x-python",
   "name": "python",
   "nbconvert_exporter": "python",
   "pygments_lexer": "ipython3",
   "version": "3.10.5"
  }
 },
 "nbformat": 4,
 "nbformat_minor": 5
}
