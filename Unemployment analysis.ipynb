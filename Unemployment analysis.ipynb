{
 "cells": [
  {
   "cell_type": "code",
   "execution_count": null,
   "id": "da5e938a-af8f-4cf8-8b88-03488a767e64",
   "metadata": {},
   "outputs": [],
   "source": [
    "import pandas as pd\n",
    "import numpy as np\n",
    "\n",
    "%matplotlib inline\n"
   ]
  },
  {
   "cell_type": "markdown",
   "id": "1f45c256-e5ae-4e84-9c24-338bb3f4e272",
   "metadata": {},
   "source": [
    "## Global Unemployment Rate in 2019 and 2020\n"
   ]
  },
  {
   "cell_type": "markdown",
   "id": "95169481-a65b-486a-8a68-033fcc965e87",
   "metadata": {},
   "source": [
    "The decline in tourism can be attributed partly to the rise in unemployment rates. The COVID-19 pandemic has resulted in massive job losses worldwide, limiting the financial resources available to individuals for travel expenses, including airfare, accommodation, and mandatory PCR testing prior to departure."
   ]
  },
  {
   "cell_type": "code",
   "execution_count": null,
   "id": "2be7d065-1815-4955-bd74-bf33ba24605c",
   "metadata": {},
   "outputs": [],
   "source": [
    "unemployment=pd.read_csv(\"\")\n",
    "unemployment.head()"
   ]
  },
  {
   "cell_type": "code",
   "execution_count": null,
   "id": "da86857c-0e57-4ffc-a859-7764ecbb9756",
   "metadata": {},
   "outputs": [],
   "source": [
    "\n",
    "\n",
    "\n",
    "index[\"regions\",\"unemployment rate\")\n",
    "fig, ax = plt.subplots()\n",
    "bar_width = 0.25\n",
    "# make plot\n",
    "ax.bar()\n",
    "\n",
    "ax.set_title(\"Global unemployment rate in 2019 and 2020 \")\n",
    "ax.set_ylabel(\"Regions\")\n",
    "ax.set_xlabel(\"Unemployment Rate(%)\") \n",
    "ax.set_legend()"
   ]
  },
  {
   "cell_type": "markdown",
   "id": "340bf212-aa36-4c63-9268-45bd617f7d80",
   "metadata": {},
   "source": [
    "According to the displayed graph, the COVID-19 pandemic has resulted in significant job losses globally, with youth and women being disproportionately affected. In 2020, the global unemployment rate has increased by 1.1 % compare to year 2019, reaching 6.5%, and the number of unemployed individuals increased by 33 million to reach 220 million. Additionally, 81 million individuals withdrew from the labour market altogether. Unemployment rates in Latin America and the Caribbean, as well as in Europe and Northern America, increased by at least 2 %.\n",
    "\n",
    "Youth and women experienced a greater impact, with employment losses of 8.7 % and 5.0 %, respectively, compared to 3.7% for adults and 3.9 per cent for men. Prior to the pandemic, youth unemployment rates were three times higher than those of adults. During the crisis, women were more likely than men to leave the labour market to care for their children, resulting in further widening of gender disparities in labour force participation rates."
   ]
  },
  {
   "cell_type": "code",
   "execution_count": null,
   "id": "2e968c48-e267-4519-a68f-9d57f2c51c34",
   "metadata": {},
   "outputs": [],
   "source": []
  }
 ],
 "metadata": {
  "kernelspec": {
   "display_name": "Python 3 (ipykernel)",
   "language": "python",
   "name": "python3"
  },
  "language_info": {
   "codemirror_mode": {
    "name": "ipython",
    "version": 3
   },
   "file_extension": ".py",
   "mimetype": "text/x-python",
   "name": "python",
   "nbconvert_exporter": "python",
   "pygments_lexer": "ipython3",
   "version": "3.10.5"
  }
 },
 "nbformat": 4,
 "nbformat_minor": 5
}
